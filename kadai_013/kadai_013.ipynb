{
  "nbformat": 4,
  "nbformat_minor": 0,
  "metadata": {
    "colab": {
      "provenance": []
    },
    "kernelspec": {
      "name": "python3",
      "display_name": "Python 3"
    },
    "language_info": {
      "name": "python"
    }
  },
  "cells": [
    {
      "cell_type": "code",
      "execution_count": 1,
      "metadata": {
        "colab": {
          "base_uri": "https://localhost:8080/"
        },
        "id": "XvGsDHhwk3qm",
        "outputId": "1ad109b8-2941-4b50-bfae-6478745fc4c7"
      },
      "outputs": [
        {
          "output_type": "stream",
          "name": "stdout",
          "text": [
            "1100.0\n"
          ]
        }
      ],
      "source": [
        "def calculate_total(price, tax):\n",
        "    total = price * tax\n",
        "    return total\n",
        "\n",
        "total = calculate_total(1000, 1.10)\n",
        "print(total)"
      ]
    }
  ]
}