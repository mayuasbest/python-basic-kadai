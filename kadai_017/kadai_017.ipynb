{
  "nbformat": 4,
  "nbformat_minor": 0,
  "metadata": {
    "colab": {
      "provenance": []
    },
    "kernelspec": {
      "name": "python3",
      "display_name": "Python 3"
    },
    "language_info": {
      "name": "python"
    }
  },
  "cells": [
    {
      "cell_type": "code",
      "execution_count": 1,
      "metadata": {
        "colab": {
          "base_uri": "https://localhost:8080/"
        },
        "id": "4iWNYpfA-8pp",
        "outputId": "06d7b4e6-0a3d-42e7-934d-ab527ffae562"
      },
      "outputs": [
        {
          "output_type": "stream",
          "name": "stdout",
          "text": [
            "一郎は、35歳なので大人です\n",
            "次郎は、28歳なので大人です\n",
            "花子は、18歳なので大人ではありません\n"
          ]
        }
      ],
      "source": [
        "class Human():\n",
        "    def __init__(self, name, age):\n",
        "        self.name = name\n",
        "        self.age = age\n",
        "\n",
        "    def check_adalt(self):\n",
        "        if self.age >= 20:\n",
        "            print(f\"{self.name}は、{self.age}歳なので大人です\")\n",
        "        else:\n",
        "            print(f\"{self.name}は、{self.age}歳なので大人ではありません\")\n",
        "\n",
        "\n",
        "people = []\n",
        "people.append(Human(\"一郎\", 35))\n",
        "people.append(Human(\"次郎\", 28))\n",
        "people.append(Human(\"花子\", 18))\n",
        "\n",
        "for person in people:\n",
        "    person.check_adalt()"
      ]
    }
  ]
}